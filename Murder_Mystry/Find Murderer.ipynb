{
 "cells": [
  {
   "cell_type": "code",
   "execution_count": 10,
   "metadata": {},
   "outputs": [],
   "source": [
    "#Problem? To find murderer based on text similarity between muderer note and other documents!"
   ]
  },
  {
   "cell_type": "code",
   "execution_count": 11,
   "metadata": {},
   "outputs": [
    {
     "data": {
      "text/plain": [
       "\"You may call me heartless, a killer, a monster, a murderer, but I'm still NOTHING compared to the villian that Jay was.\\nThis whole contest was a sham, an elaborate plot to shame the contestants and feed Jay's massive, massive ego. \\nSURE you think you know him! You've seen him smiling for the cameras, laughing, joking, telling stories, waving his money around\\nlike a prop but off camera he was a sinister beast, a cruel cruel taskmaster, he treated all of us like slaves, like cattle,\\nlike animals! Do you remember Lindsay, she was the first to go, he called her such horrible things that she cried all night,\\nkeeping up all up, crying, crying, and more crying, he broke her with his words. I miss my former cast members,\\nall of them very much. And we had to live with him, live in his home, live in his power, deal with his crazy demands.\\nAND FOR WHAT! DID YOU KNOW THAT THE PRIZE ISN'T REAL? He never intended to marry one of us! The carrot on the stick was gone,\\nall that was left was stick, he told us last night that we were all a terrible terrible disappointment and none of us would\\never amount to anything, and that regardless of who won the contest he would never speak to any of us again! It's definitely\\nthe things like this you can feel in your gut how wrong he is! Well I showed him, he got what he deserved all right, I showed \\nhim, I showed him the person I am! I wasn't going to be pushed around any longer, and I wasn't going to let him go on pretending\\nthat he was some saint when all he was was a sick sick twisted man who deserved every bit of what he got. The fans need\\nto know, Jay Stacksby is a vile amalgamation of all things evil and bad and the world is a better place without him.\""
      ]
     },
     "execution_count": 11,
     "metadata": {},
     "output_type": "execute_result"
    }
   ],
   "source": [
    "#Murderer note:\n",
    "'''You may call me heartless, a killer, a monster, a murderer, but I'm still NOTHING compared to the villian that Jay was.\n",
    "This whole contest was a sham, an elaborate plot to shame the contestants and feed Jay's massive, massive ego. \n",
    "SURE you think you know him! You've seen him smiling for the cameras, laughing, joking, telling stories, waving his money around\n",
    "like a prop but off camera he was a sinister beast, a cruel cruel taskmaster, he treated all of us like slaves, like cattle,\n",
    "like animals! Do you remember Lindsay, she was the first to go, he called her such horrible things that she cried all night,\n",
    "keeping up all up, crying, crying, and more crying, he broke her with his words. I miss my former cast members,\n",
    "all of them very much. And we had to live with him, live in his home, live in his power, deal with his crazy demands.\n",
    "AND FOR WHAT! DID YOU KNOW THAT THE PRIZE ISN'T REAL? He never intended to marry one of us! The carrot on the stick was gone,\n",
    "all that was left was stick, he told us last night that we were all a terrible terrible disappointment and none of us would\n",
    "ever amount to anything, and that regardless of who won the contest he would never speak to any of us again! It's definitely\n",
    "the things like this you can feel in your gut how wrong he is! Well I showed him, he got what he deserved all right, I showed \n",
    "him, I showed him the person I am! I wasn't going to be pushed around any longer, and I wasn't going to let him go on pretending\n",
    "that he was some saint when all he was was a sick sick twisted man who deserved every bit of what he got. The fans need\n",
    "to know, Jay Stacksby is a vile amalgamation of all things evil and bad and the world is a better place without him.'''"
   ]
  },
  {
   "cell_type": "code",
   "execution_count": 12,
   "metadata": {},
   "outputs": [
    {
     "data": {
      "text/plain": [
       "'Salutations. My name? Myrtle. Myrtle Beech. I am a woman of simple tastes. I enjoy reading, thinking, and doing my taxes. \\nI entered this competition because I want a serious relationship. I want a commitment. The last man I dated was too whimsical. \\nHe wanted to go on dates that had no plan. No end goal. Sometimes we would just end up wandering the streets after dinner.\\nHe called it a \"walk\". A \"walk\" with no destination. Can you imagine? I like every action I take to have a measurable effect.\\nWhen I see a movie, I like to walk away with insights that I did not have before. When I take a bike ride, there better\\nbe a worthy destination at the end of the bike path. Jay seems frivolous at times. This worries me. However, it is my \\nstaunch belief that one does not make and keep money without having a modicum of discipline. As such, I am hopeful. I \\nwill now list three things I cannot live without. Water. Emery boards. Dogs. Thank you for the opportunity to introduce\\nmyself. I look forward to the competition.'"
      ]
     },
     "execution_count": 12,
     "metadata": {},
     "output_type": "execute_result"
    }
   ],
   "source": [
    "#Myrtle Beech's introduction letter:\n",
    "\n",
    "'''Salutations. My name? Myrtle. Myrtle Beech. I am a woman of simple tastes. I enjoy reading, thinking, and doing my taxes. \n",
    "I entered this competition because I want a serious relationship. I want a commitment. The last man I dated was too whimsical. \n",
    "He wanted to go on dates that had no plan. No end goal. Sometimes we would just end up wandering the streets after dinner.\n",
    "He called it a \"walk\". A \"walk\" with no destination. Can you imagine? I like every action I take to have a measurable effect.\n",
    "When I see a movie, I like to walk away with insights that I did not have before. When I take a bike ride, there better\n",
    "be a worthy destination at the end of the bike path. Jay seems frivolous at times. This worries me. However, it is my \n",
    "staunch belief that one does not make and keep money without having a modicum of discipline. As such, I am hopeful. I \n",
    "will now list three things I cannot live without. Water. Emery boards. Dogs. Thank you for the opportunity to introduce\n",
    "myself. I look forward to the competition.'''"
   ]
  },
  {
   "cell_type": "code",
   "execution_count": 13,
   "metadata": {},
   "outputs": [
    {
     "data": {
      "text/plain": [
       "\"Hi, I'm Lily Trebuchet from East Egg, Long Island. I love cats, hiking, and curling up under a warm blanket with a book.\\nSo they gave this little questionnaire to use for our bios so lets get started. What are some of my least favorite\\nhousehold chores? Dishes, oh yes it's definitely the dishes, I just hate doing them, don't you? Who is your favorite \\nactor and why? Hmm, that's a hard one, but I think recently I'll have to go with Michael B. Jordan, every bit of that man\\nis handsome, HANDSOME! Do you remember seeing him shirtless? I can't believe what he does for the cameras! Okay okay next\\nquestion, what is your perfect date? Well it starts with a nice dinner at a delicious but small restaurant, you know like\\none of those places where the owner is in the back and comes out to talk to you and ask you how your meal was. My favorite\\nform of art? Another hard one, but I think I'll have to go with music, music you can feel in your whole body and it is \\nelectrifying and best of all, you can dance to it! Okay final question, let's see, What are three things you cannot live\\nwithout? Well first off, my beautiful, beautiful cat Jerry, he is my heart and spirit animal. Second is pasta, definitely\\npasta, and the third I think is my family, I love all of them very much and they support me in everything I do. I know Jay\\nStacksby is a handsome man and all of us want to be the first to walk down the aisle with him, but I think he might truly\\nbe the one for me. Okay that's it for the bio, I hope you have fun watching the show!\""
      ]
     },
     "execution_count": 13,
     "metadata": {},
     "output_type": "execute_result"
    }
   ],
   "source": [
    "#Lily Trebuchet's introduction letter:\n",
    "'''Hi, I'm Lily Trebuchet from East Egg, Long Island. I love cats, hiking, and curling up under a warm blanket with a book.\n",
    "So they gave this little questionnaire to use for our bios so lets get started. What are some of my least favorite\n",
    "household chores? Dishes, oh yes it's definitely the dishes, I just hate doing them, don't you? Who is your favorite \n",
    "actor and why? Hmm, that's a hard one, but I think recently I'll have to go with Michael B. Jordan, every bit of that man\n",
    "is handsome, HANDSOME! Do you remember seeing him shirtless? I can't believe what he does for the cameras! Okay okay next\n",
    "question, what is your perfect date? Well it starts with a nice dinner at a delicious but small restaurant, you know like\n",
    "one of those places where the owner is in the back and comes out to talk to you and ask you how your meal was. My favorite\n",
    "form of art? Another hard one, but I think I'll have to go with music, music you can feel in your whole body and it is \n",
    "electrifying and best of all, you can dance to it! Okay final question, let's see, What are three things you cannot live\n",
    "without? Well first off, my beautiful, beautiful cat Jerry, he is my heart and spirit animal. Second is pasta, definitely\n",
    "pasta, and the third I think is my family, I love all of them very much and they support me in everything I do. I know Jay\n",
    "Stacksby is a handsome man and all of us want to be the first to walk down the aisle with him, but I think he might truly\n",
    "be the one for me. Okay that's it for the bio, I hope you have fun watching the show!'''"
   ]
  },
  {
   "cell_type": "code",
   "execution_count": 14,
   "metadata": {},
   "outputs": [
    {
     "data": {
      "text/plain": [
       "\"A most good day to you all, I am Gregg T Fishy, of the Fishy Enterprise fortune. I am 37 years young, an adventurous spirit \\nand I've never lost my sense of childlike wonder. I do love to be in the backyard gardening and I have the most extraordinary\\ntime when I'm fishing. Fishing for what, you might find yourself asking? Why, I happen to always be fishing for compliments\\nof course! I have a stunning pair of radiant blue eyes that will pierce the soul of anyone who dare gaze upon my countenance.\\nI quite enjoy going on long jaunts through garden paths and short walks through greenhouses. I hope that Jay will be as \\nabsolutely interesting as he appears on the television, I find that he has some of the most curious tastes in style and humor.\\nWhen I'm out and about I quite enjoy hearing tales that instill in my heart of hearts the fascination that beguiles my every\\nday life, every fiber of my being scintillates and vascillates with extreme pleasure during one of these charming anecdotes \\nand significantly pleases my beautiful personage. I cannot wait to enjoy being on the television program A Jay To Remember,\\nit certainly seems like a grand time to explore life and love.\""
      ]
     },
     "execution_count": 14,
     "metadata": {},
     "output_type": "execute_result"
    }
   ],
   "source": [
    "#Gregg T Fishy's introduction letter:\n",
    "'''A most good day to you all, I am Gregg T Fishy, of the Fishy Enterprise fortune. I am 37 years young, an adventurous spirit \n",
    "and I've never lost my sense of childlike wonder. I do love to be in the backyard gardening and I have the most extraordinary\n",
    "time when I'm fishing. Fishing for what, you might find yourself asking? Why, I happen to always be fishing for compliments\n",
    "of course! I have a stunning pair of radiant blue eyes that will pierce the soul of anyone who dare gaze upon my countenance.\n",
    "I quite enjoy going on long jaunts through garden paths and short walks through greenhouses. I hope that Jay will be as \n",
    "absolutely interesting as he appears on the television, I find that he has some of the most curious tastes in style and humor.\n",
    "When I'm out and about I quite enjoy hearing tales that instill in my heart of hearts the fascination that beguiles my every\n",
    "day life, every fiber of my being scintillates and vascillates with extreme pleasure during one of these charming anecdotes \n",
    "and significantly pleases my beautiful personage. I cannot wait to enjoy being on the television program A Jay To Remember,\n",
    "it certainly seems like a grand time to explore life and love.'''"
   ]
  },
  {
   "cell_type": "code",
   "execution_count": 15,
   "metadata": {},
   "outputs": [],
   "source": [
    "#Saving The Different Examples as Variables\n",
    "murder_note=\"You may call me heartless, a killer, a monster, a murderer, but I'm still NOTHING compared to the villian that Jay was. This whole contest was a sham, an elaborate plot to shame the contestants and feed Jay's massive, massive ego. SURE you think you know him! You've seen him smiling for the cameras, laughing, joking, telling stories, waving his money around like a prop but off camera he was a sinister beast, a cruel cruel taskmaster, he treated all of us like slaves, like cattle, like animals! Do you remember Lindsay, she was the first to go, he called her such horrible things that she cried all night, keeping up all up, crying, crying, and more crying, he broke her with his words. I miss my former cast members, all of them very much. And we had to live with him, live in his home, live in his power, deal with his crazy demands. AND FOR WHAT! DID YOU KNOW THAT THE PRIZE ISN'T REAL? He never intended to marry one of us! The carrot on the stick was gone, all that was left was stick, he told us last night that we were all a terrible terrible disappointment and none of us would ever amount to anything, and that regardless of who won the contest he would never speak to any of us again! It's definitely the things like this you can feel in your gut how wrong he is! Well I showed him, he got what he deserved all right, I showed him, I showed him the person I am! I wasn't going to be pushed around any longer, and I wasn't going to let him go on pretending that he was some saint when all he was was a sick sick twisted man who deserved every bit of what he got. The fans need to know, Jay Stacksby is a vile amalgamation of all things evil and bad and the world is a better place without him.\"\n",
    "lily_trebuchet_intro=\"Hi, I'm Lily Trebuchet from East Egg, Long Island. I love cats, hiking, and curling up under a warm blanket with a book. So they gave this little questionnaire to use for our bios so lets get started. What are some of my least favorite household chores? Dishes, oh yes it's definitely the dishes, I just hate doing them, don't you? Who is your favorite actor and why? Hmm, that's a hard one, but I think recently I'll have to go with Michael B. Jordan, every bit of that man is handsome, HANDSOME! Do you remember seeing him shirtless? I can't believe what he does for the cameras! Okay okay next question, what is your perfect date? Well it starts with a nice dinner at a delicious but small restaurant, you know like one of those places where the owner is in the back and comes out to talk to you and ask you how your meal was. My favorite form of art? Another hard one, but I think I'll have to go with music, music you can feel in your whole body and it is electrifying and best of all, you can dance to it! Okay final question, let's see, What are three things you cannot live without? Well first off, my beautiful, beautiful cat Jerry, he is my heart and spirit animal. Second is pasta, definitely pasta, and the third I think is my family, I love all of them very much and they support me in everything I do. I know Jay Stacksby is a handsome man and all of us want to be the first to walk down the aisle with him, but I think he might truly be the one for me. Okay that's it for the bio, I hope you have fun watching the show!\"\n",
    "myrtle_beech_intro='Salutations. My name? Myrtle. Myrtle Beech. I am a woman of simple tastes. I enjoy reading, thinking, and doing my taxes. I entered this competition because I want a serious relationship. I want a commitment. The last man I dated was too whimsical. He wanted to go on dates that had no plan. No end goal. Sometimes we would just end up wandering the streets after dinner. He called it a \"walk\". A \"walk\" with no destination. Can you imagine? I like every action I take to have a measurable effect. When I see a movie, I like to walk away with insights that I did not have before. When I take a bike ride, there better be a worthy destination at the end of the bike path. Jay seems frivolous at times. This worries me. However, it is my staunch belief that one does not make and keep money without having a modicum of discipline. As such, I am hopeful. I will now list three things I cannot live without. Water. Emery boards. Dogs. Thank you for the opportunity to introduce myself. I look forward to the competition.'\n",
    "gregg_t_fishy_intro=\"A most good day to you all, I am Gregg T Fishy, of the Fishy Enterprise fortune. I am 37 years young, an adventurous spirit and I've never lost my sense of childlike wonder. I do love to be in the backyard gardening and I have the most extraordinary time when I'm fishing. Fishing for what, you might find yourself asking? Why, I happen to always be fishing for compliments of course! I have a stunning pair of radiant blue eyes that will pierce the soul of anyone who dare gaze upon my countenance. I quite enjoy going on long jaunts through garden paths and short walks through greenhouses. I hope that Jay will be as absolutely interesting as he appears on the television, I find that he has some of the most curious tastes in style and humor. When I'm out and about I quite enjoy hearing tales that instill in my heart of hearts the fascination that beguiles my every day life, every fiber of my being scintillates and vascillates with extreme pleasure during one of these charming anecdotes and significantly pleases my beautiful personage. I cannot wait to enjoy being on the television program A Jay To Remember, it certainly seems like a grand time to explore life and love.\"\n"
   ]
  },
  {
   "cell_type": "code",
   "execution_count": 16,
   "metadata": {},
   "outputs": [
    {
     "data": {
      "text/plain": [
       "20.625"
      ]
     },
     "execution_count": 16,
     "metadata": {},
     "output_type": "execute_result"
    }
   ],
   "source": [
    "#The First Indicator: Sentence Length\n",
    "\n",
    "def get_average_sentence_length(text):\n",
    "    punc=[\"!\",\"?\"]\n",
    "    for ch in punc:\n",
    "        if ch in text:\n",
    "            text=text.replace(ch, \".\")\n",
    "    sentences_in_text=text.split(\".\")\n",
    "    sentence_lengths=[]\n",
    "    for sentence in sentences_in_text:\n",
    "        sentence_lengths.append(len(sentence.split(\" \"))-1)\n",
    "    return sum(sentence_lengths)/len(sentence_lengths)\n",
    "\n",
    "get_average_sentence_length(murder_note)   "
   ]
  },
  {
   "cell_type": "code",
   "execution_count": 17,
   "metadata": {},
   "outputs": [
    {
     "data": {
      "text/plain": [
       "['where',\n",
       " 'did',\n",
       " 'you',\n",
       " 'go',\n",
       " 'friend?',\n",
       " 'we',\n",
       " 'nearly',\n",
       " 'saw',\n",
       " 'each',\n",
       " 'other']"
      ]
     },
     "execution_count": 17,
     "metadata": {},
     "output_type": "execute_result"
    }
   ],
   "source": [
    "#Cleaning Our Data\n",
    "\n",
    "import string\n",
    "def prepare_text(text):\n",
    "    text=text.lower()\n",
    "    text=text.replace(\",\", \"\")\n",
    "    text=text.strip(string.punctuation)\n",
    "    prepared_text = text.split()\n",
    "    return prepared_text\n",
    "prepare_text(\"Where did you go, friend? We nearly saw each other.\")"
   ]
  },
  {
   "cell_type": "code",
   "execution_count": 18,
   "metadata": {},
   "outputs": [
    {
     "data": {
      "text/plain": [
       "{'do': 1, 'you': 1, 'see': 2, 'what': 1, 'i': 1}"
      ]
     },
     "execution_count": 18,
     "metadata": {},
     "output_type": "execute_result"
    }
   ],
   "source": [
    "#Building A Frequency Table\n",
    "\n",
    "import pprint\n",
    "from collections import Counter\n",
    "def build_frequency_table(corpus):\n",
    "    frequency_table = {}\n",
    "    cnt=Counter()\n",
    "    for i in corpus:\n",
    "        cnt[i]+=1\n",
    "    for key, value in cnt.items():\n",
    "        frequency_table[key]=value\n",
    "    return frequency_table\n",
    "build_frequency_table(['do', 'you', 'see', 'what', 'i', 'see'])\n",
    "#pprint.pprint(frequency_table)"
   ]
  },
  {
   "cell_type": "code",
   "execution_count": 19,
   "metadata": {},
   "outputs": [
    {
     "data": {
      "text/plain": [
       "['what in', 'in the', 'the world', 'world is', 'is going', 'going on']"
      ]
     },
     "execution_count": 19,
     "metadata": {},
     "output_type": "execute_result"
    }
   ],
   "source": [
    "#The Third Indicator: N-Grams\n",
    "def ngram_creator(text_list):\n",
    "    two_grams=[]\n",
    "    for i in range(len(text_list)-1):\n",
    "        two_grams.append(text_list[i]+\" \"+text_list[i+1])\n",
    "    return two_grams\n",
    "ngram_creator(['what', 'in', 'the', 'world', 'is', 'going', 'on'])"
   ]
  },
  {
   "cell_type": "code",
   "execution_count": 20,
   "metadata": {},
   "outputs": [
    {
     "data": {
      "text/plain": [
       "0.625"
      ]
     },
     "execution_count": 20,
     "metadata": {},
     "output_type": "execute_result"
    }
   ],
   "source": [
    "#Comparing Two Frequency Tables\n",
    "def frequency_comparison(table1, table2):\n",
    "    appearances=0\n",
    "    mutual_appearances=0\n",
    "    for key in table1:\n",
    "        if key in table2:\n",
    "            if table1[key]>=table2[key]:\n",
    "                appearances+=table1[key]\n",
    "                mutual_appearances+=table2[key]\n",
    "            elif table1[key]<table2[key]:\n",
    "                appearances+=table2[key]\n",
    "                mutual_appearances+=table1[key]\n",
    "        else:\n",
    "            appearances+=table1[key]\n",
    "            \n",
    "    for key in table2:\n",
    "        if key not in table1:\n",
    "            appearances+=table2[key]\n",
    "    score=mutual_appearances/appearances\n",
    "    return score\n",
    "\n",
    "table1={'do': 5, 'you': 10, 'see': 21, 'what': 5, 'i': 11, 'morteza':6}\n",
    "table2={'do': 4, 'you': 10, 'see': 23, 'what': 4, 'i': 1, 'fariba':4 }\n",
    "frequency_comparison(table1, table2)\n"
   ]
  },
  {
   "cell_type": "code",
   "execution_count": 21,
   "metadata": {},
   "outputs": [],
   "source": [
    "#Comparing Average Sentence Length\n",
    "def percent_difference(value1, value2):\n",
    "    return abs(value1-value2)/((value1+value2)/2)"
   ]
  },
  {
   "cell_type": "code",
   "execution_count": 22,
   "metadata": {},
   "outputs": [],
   "source": [
    "#Scoring Similarity with All Three Indicators\n",
    "def find_text_similarity(text1, text2):\n",
    "    sentence_length_difference= percent_difference(text1.average_sentence_length, text2.average_sentence_length)\n",
    "    sentence_length_similarity=abs(1-sentence_length_difference)\n",
    "    word_count_similarity=frequency_comparison(text1.word_count_frequency, text2.word_count_frequency)\n",
    "    ngram_similarity= frequency_comparison(text1.ngram_frequency, text2.ngram_frequency)\n",
    "    return (((sentence_length_similarity+word_count_similarity+ngram_similarity)/3)*100)"
   ]
  },
  {
   "cell_type": "code",
   "execution_count": 23,
   "metadata": {},
   "outputs": [],
   "source": [
    "#Creating The Definition for Our Model\n",
    "class TextSample:\n",
    "    def __init__(self,text, author):\n",
    "        self.author=author\n",
    "        self.text=text\n",
    "        self.average_sentence_length=get_average_sentence_length(text)\n",
    "        self.prepared_text=prepare_text(text)\n",
    "        self.word_count_frequency=build_frequency_table(self.prepared_text)\n",
    "        self.two_grams=ngram_creator(self.prepared_text)\n",
    "        self.ngram_frequency=build_frequency_table(self.two_grams)\n",
    "    def __repr__(self):\n",
    "        return '{},{:.2f}'.format(self.author, self.average_sentence_length)\n",
    "    \n",
    "#Creating our TextSample Instances\n",
    "murderer_sample=TextSample(murder_note, 'murderer')\n",
    "lily_sample=TextSample(lily_trebuchet_intro, 'lily')\n",
    "myrtle_sample=TextSample(myrtle_beech_intro, 'Myrtle')\n",
    "gregg_sample=TextSample(gregg_t_fishy_intro, 'gregg')"
   ]
  },
  {
   "cell_type": "code",
   "execution_count": 24,
   "metadata": {},
   "outputs": [
    {
     "name": "stdout",
     "output_type": "stream",
     "text": [
      "gregg note has 36.92 % text similarity to the murdor's note\n",
      "lily note has 31.81 % text similarity to the murdor's note\n",
      "Myrtle note has 7.13 % text similarity to the murdor's note\n"
     ]
    }
   ],
   "source": [
    "#Rendering the Results\n",
    "'''We want to print out the results in a way that we can read! For each contestant on A Brand New Jay print out the following:\n",
    "\n",
    "Their name\n",
    "Their similarity score to the murder letter'''\n",
    "\n",
    "A_Brand_New_Jay=[gregg_sample,lily_sample,myrtle_sample]\n",
    "for each in A_Brand_New_Jay:\n",
    "    print(\"{} note has {:.2f} % text similarity to the murdor's note\".format(each.author, find_text_similarity(murderer_sample,each)))                                                                  "
   ]
  },
  {
   "cell_type": "code",
   "execution_count": 25,
   "metadata": {},
   "outputs": [
    {
     "name": "stdout",
     "output_type": "stream",
     "text": [
      "Murderer: gregg\n"
     ]
    }
   ],
   "source": [
    "print(\"Murderer:\", gregg_sample.author)"
   ]
  },
  {
   "cell_type": "code",
   "execution_count": null,
   "metadata": {},
   "outputs": [],
   "source": []
  }
 ],
 "metadata": {
  "kernelspec": {
   "display_name": "Python 3",
   "language": "python",
   "name": "python3"
  },
  "language_info": {
   "codemirror_mode": {
    "name": "ipython",
    "version": 3
   },
   "file_extension": ".py",
   "mimetype": "text/x-python",
   "name": "python",
   "nbconvert_exporter": "python",
   "pygments_lexer": "ipython3",
   "version": "3.6.5"
  }
 },
 "nbformat": 4,
 "nbformat_minor": 2
}
